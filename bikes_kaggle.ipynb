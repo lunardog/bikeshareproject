{
 "cells": [
  {
   "cell_type": "markdown",
   "metadata": {},
   "source": [
    "### Data Fields\n",
    "\n",
    "- datetime - hourly date + timestamp  \n",
    "- season -  1 = spring, 2 = summer, 3 = fall, 4 = winter \n",
    "- holiday - whether the day is considered a holiday\n",
    "- workingday - whether the day is neither a weekend nor holiday\n",
    "- weather - 1: Clear, Few clouds, Partly cloudy, Partly cloudy \n",
    "- 2: Mist + Cloudy, Mist + Broken clouds, Mist + Few clouds, Mist \n",
    "- 3: Light Snow, Light Rain + Thunderstorm + Scattered clouds, Light Rain + Scattered clouds \n",
    "- 4: Heavy Rain + Ice Pallets + Thunderstorm + Mist, Snow + Fog \n",
    "- temp - temperature in Celsius\n",
    "- atemp - \"feels like\" temperature in Celsius\n",
    "- humidity - relative humidity\n",
    "- windspeed - wind speed\n",
    "- casual - number of non-registered user rentals initiated\n",
    "- registered - number of registered user rentals initiated\n",
    "- count - number of total rentals\n",
    "\n",
    "(ten years of data, first 20 days a month is train, rest is test)"
   ]
  },
  {
   "cell_type": "code",
   "execution_count": 3,
   "metadata": {
    "collapsed": false
   },
   "outputs": [],
   "source": [
    "import numpy as np\n",
    "import scipy \n",
    "import pandas as pd"
   ]
  },
  {
   "cell_type": "code",
   "execution_count": 16,
   "metadata": {
    "collapsed": false
   },
   "outputs": [
    {
     "data": {
      "text/plain": [
       "(6494, 9)"
      ]
     },
     "execution_count": 16,
     "metadata": {},
     "output_type": "execute_result"
    }
   ],
   "source": [
    "np.shape(train)\n",
    "np.shape(test)"
   ]
  },
  {
   "cell_type": "code",
   "execution_count": 42,
   "metadata": {
    "collapsed": false
   },
   "outputs": [],
   "source": [
    "train_pd = pd.read_csv(\"/resources/data/bikes/train.csv\")\n",
    "test_pd = pd.read_csv(\"/resources/data/bikes/test.csv\")"
   ]
  },
  {
   "cell_type": "code",
   "execution_count": 112,
   "metadata": {
    "collapsed": false
   },
   "outputs": [],
   "source": [
    "train_pd.datetime = pd.to_datetime(train_pd.datetime)\n",
    "train_pd[\"hour\"] = train_pd.datetime.dt.hour\n",
    "# we dont need datetime anymore\n",
    "train_pd = train_pd.drop('datetime', 1)\n"
   ]
  },
  {
   "cell_type": "code",
   "execution_count": 115,
   "metadata": {
    "collapsed": false
   },
   "outputs": [],
   "source": [
    "weather = pd.get_dummies(train_pd.weather)\n",
    "season = pd.get_dummies(train_pd.season)\n",
    "\n",
    "weather_labels = [\"Clear\", \"Mist\", \"LightSnow\", \"HeavyRain\"]\n",
    "season_labels =[\"spring\", \"summer\", \"fall\", \"winter\"]\n",
    "\n",
    "weather.columns = weather_labels\n",
    "season.columns = season_labels\n",
    "\n",
    "\n",
    "weather = weather.astype(int)\n",
    "season = season.astype(int)"
   ]
  },
  {
   "cell_type": "code",
   "execution_count": 120,
   "metadata": {
    "collapsed": false
   },
   "outputs": [],
   "source": [
    "new_df = weather.merge(season, left_index=True, right_index=True)\n",
    "train = train_pd.merge(new_df, left_index=True, right_index=True)\n"
   ]
  },
  {
   "cell_type": "code",
   "execution_count": 129,
   "metadata": {
    "collapsed": false
   },
   "outputs": [],
   "source": [
    "# temp\tatemp\thumidity\twindspeed\n",
    "(df - df.mean()) / (df.max() - df.min())\n",
    "train.temp = (train.temp - train.temp.mean()) / (train.temp.max() - train.temp.min()) + 1 \n",
    "train.atemp = (train.atemp - train.atemp.mean()) / (train.atemp.max() - train.atemp.min()) + 1\n",
    "train.windspeed = (train.windspeed - train.windspeed.mean()) / (train.windspeed.max() - train.windspeed.min()) + 1\n",
    "train.humidity = (train.humidity - train.humidity.mean()) / (train.humidity.max() - train.humidity.min()) + 1\n",
    "\n",
    "train.to_csv(\"cleansed.csv\")"
   ]
  },
  {
   "cell_type": "code",
   "execution_count": null,
   "metadata": {
    "collapsed": false
   },
   "outputs": [],
   "source": []
  },
  {
   "cell_type": "code",
   "execution_count": null,
   "metadata": {
    "collapsed": false
   },
   "outputs": [],
   "source": []
  },
  {
   "cell_type": "raw",
   "metadata": {},
   "source": []
  },
  {
   "cell_type": "code",
   "execution_count": null,
   "metadata": {
    "collapsed": true
   },
   "outputs": [],
   "source": []
  },
  {
   "cell_type": "code",
   "execution_count": null,
   "metadata": {
    "collapsed": true
   },
   "outputs": [],
   "source": []
  },
  {
   "cell_type": "code",
   "execution_count": null,
   "metadata": {
    "collapsed": true
   },
   "outputs": [],
   "source": []
  }
 ],
 "metadata": {
  "kernelspec": {
   "display_name": "Python 2",
   "language": "python",
   "name": "python2"
  },
  "language_info": {
   "codemirror_mode": {
    "name": "ipython",
    "version": 2
   },
   "file_extension": ".py",
   "mimetype": "text/x-python",
   "name": "python",
   "nbconvert_exporter": "python",
   "pygments_lexer": "ipython2",
   "version": "2.7.11"
  }
 },
 "nbformat": 4,
 "nbformat_minor": 0
}
